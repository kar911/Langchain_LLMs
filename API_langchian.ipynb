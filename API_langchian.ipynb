{
 "cells": [
  {
   "cell_type": "code",
   "execution_count": 14,
   "id": "0864bdf9-292a-4ebc-b96f-3f3aaed7d564",
   "metadata": {
    "tags": []
   },
   "outputs": [],
   "source": [
    "from langchain.chains import RetrievalQA,GraphQAChain,MapReduceChain,mapreduce,llm as ll,llm_math as lm\n",
    "# chaining type what type of task you want to perform "
   ]
  },
  {
   "cell_type": "code",
   "execution_count": 15,
   "id": "d57215b0-953a-46b0-a443-55cc8134a336",
   "metadata": {
    "tags": []
   },
   "outputs": [
    {
     "ename": "ImportError",
     "evalue": "cannot import name 'Row' from 'sqlalchemy.engine' (/home/kar911/.local/lib/python3.10/site-packages/sqlalchemy/engine/__init__.py)",
     "output_type": "error",
     "traceback": [
      "\u001b[0;31m---------------------------------------------------------------------------\u001b[0m",
      "\u001b[0;31mImportError\u001b[0m                               Traceback (most recent call last)",
      "Cell \u001b[0;32mIn[15], line 1\u001b[0m\n\u001b[0;32m----> 1\u001b[0m \u001b[38;5;28;01mfrom\u001b[39;00m \u001b[38;5;21;01mlangchain\u001b[39;00m\u001b[38;5;21;01m.\u001b[39;00m\u001b[38;5;21;01mcache\u001b[39;00m \u001b[38;5;28;01mimport\u001b[39;00m RedisCache,FullLLMCache\n",
      "File \u001b[0;32m~/.local/lib/python3.10/site-packages/langchain/cache.py:1\u001b[0m\n\u001b[0;32m----> 1\u001b[0m \u001b[38;5;28;01mfrom\u001b[39;00m \u001b[38;5;21;01mlangchain_community\u001b[39;00m\u001b[38;5;21;01m.\u001b[39;00m\u001b[38;5;21;01mcache\u001b[39;00m \u001b[38;5;28;01mimport\u001b[39;00m (\n\u001b[1;32m      2\u001b[0m     AstraDBCache,\n\u001b[1;32m      3\u001b[0m     AstraDBSemanticCache,\n\u001b[1;32m      4\u001b[0m     CassandraCache,\n\u001b[1;32m      5\u001b[0m     CassandraSemanticCache,\n\u001b[1;32m      6\u001b[0m     FullLLMCache,\n\u001b[1;32m      7\u001b[0m     FullMd5LLMCache,\n\u001b[1;32m      8\u001b[0m     GPTCache,\n\u001b[1;32m      9\u001b[0m     InMemoryCache,\n\u001b[1;32m     10\u001b[0m     MomentoCache,\n\u001b[1;32m     11\u001b[0m     RedisCache,\n\u001b[1;32m     12\u001b[0m     RedisSemanticCache,\n\u001b[1;32m     13\u001b[0m     SQLAlchemyCache,\n\u001b[1;32m     14\u001b[0m     SQLAlchemyMd5Cache,\n\u001b[1;32m     15\u001b[0m     SQLiteCache,\n\u001b[1;32m     16\u001b[0m     UpstashRedisCache,\n\u001b[1;32m     17\u001b[0m )\n\u001b[1;32m     19\u001b[0m __all__ \u001b[38;5;241m=\u001b[39m [\n\u001b[1;32m     20\u001b[0m     \u001b[38;5;124m\"\u001b[39m\u001b[38;5;124mInMemoryCache\u001b[39m\u001b[38;5;124m\"\u001b[39m,\n\u001b[1;32m     21\u001b[0m     \u001b[38;5;124m\"\u001b[39m\u001b[38;5;124mFullLLMCache\u001b[39m\u001b[38;5;124m\"\u001b[39m,\n\u001b[0;32m   (...)\u001b[0m\n\u001b[1;32m     34\u001b[0m     \u001b[38;5;124m\"\u001b[39m\u001b[38;5;124mAstraDBSemanticCache\u001b[39m\u001b[38;5;124m\"\u001b[39m,\n\u001b[1;32m     35\u001b[0m ]\n",
      "File \u001b[0;32m~/.local/lib/python3.10/site-packages/langchain_community/cache.py:51\u001b[0m\n\u001b[1;32m     34\u001b[0m \u001b[38;5;28;01mfrom\u001b[39;00m \u001b[38;5;21;01mtyping\u001b[39;00m \u001b[38;5;28;01mimport\u001b[39;00m (\n\u001b[1;32m     35\u001b[0m     TYPE_CHECKING,\n\u001b[1;32m     36\u001b[0m     Any,\n\u001b[0;32m   (...)\u001b[0m\n\u001b[1;32m     47\u001b[0m     cast,\n\u001b[1;32m     48\u001b[0m )\n\u001b[1;32m     50\u001b[0m \u001b[38;5;28;01mfrom\u001b[39;00m \u001b[38;5;21;01msqlalchemy\u001b[39;00m \u001b[38;5;28;01mimport\u001b[39;00m Column, Integer, String, create_engine, delete, select\n\u001b[0;32m---> 51\u001b[0m \u001b[38;5;28;01mfrom\u001b[39;00m \u001b[38;5;21;01msqlalchemy\u001b[39;00m\u001b[38;5;21;01m.\u001b[39;00m\u001b[38;5;21;01mengine\u001b[39;00m \u001b[38;5;28;01mimport\u001b[39;00m Row\n\u001b[1;32m     52\u001b[0m \u001b[38;5;28;01mfrom\u001b[39;00m \u001b[38;5;21;01msqlalchemy\u001b[39;00m\u001b[38;5;21;01m.\u001b[39;00m\u001b[38;5;21;01mengine\u001b[39;00m\u001b[38;5;21;01m.\u001b[39;00m\u001b[38;5;21;01mbase\u001b[39;00m \u001b[38;5;28;01mimport\u001b[39;00m Engine\n\u001b[1;32m     53\u001b[0m \u001b[38;5;28;01mfrom\u001b[39;00m \u001b[38;5;21;01msqlalchemy\u001b[39;00m\u001b[38;5;21;01m.\u001b[39;00m\u001b[38;5;21;01morm\u001b[39;00m \u001b[38;5;28;01mimport\u001b[39;00m Session\n",
      "\u001b[0;31mImportError\u001b[0m: cannot import name 'Row' from 'sqlalchemy.engine' (/home/kar911/.local/lib/python3.10/site-packages/sqlalchemy/engine/__init__.py)"
     ]
    }
   ],
   "source": [
    "\n",
    "from langchain.cache import RedisCache,FullLLMCache \n",
    "# cache the data for deployment utility\n"
   ]
  },
  {
   "cell_type": "code",
   "execution_count": 7,
   "id": "2c341d0a-f489-4c45-9a14-23d5883f0d14",
   "metadata": {
    "tags": []
   },
   "outputs": [],
   "source": [
    "from langchain.callbacks import llmonitor_callback,human,HumanApprovalCallbackHandler,SageMakerCallbackHandler \n",
    "# get feed back to from other servies\n",
    "from langchain.document_loaders import  NewsURLLoader,S3DirectoryLoader,CSVLoader\n",
    "# load any type -> tf,sparkrdd,text,pdf\n",
    "from langchain.document_transformers import OpenAIMetadataTagger,Html2TextTransformer \n",
    "# to make transformation in data according to different task\n",
    "from langchain.embeddings import HuggingFaceHubEmbeddings,bedrock,gpt4all,OpenAIEmbeddings \n",
    "# get embeddings from where your model is compatible\n"
   ]
  },
  {
   "cell_type": "code",
   "execution_count": 13,
   "id": "4d2614b3-f6b3-4388-a6d7-95b6e696c68e",
   "metadata": {
    "tags": []
   },
   "outputs": [],
   "source": [
    "\n",
    "from langchain.graphs import kuzu_graph \n",
    "# get graph data from graph data base\n",
    "from langchain.llms import huggingface_pipeline,LlamaCpp \n",
    "# api to pipeline and llms\n",
    "from langchain.text_splitter import   SpacyTextSplitter,TextSplitter,Tokenizer,TokenTextSplitter \n",
    "# how to preprocess the text \n",
    "from langchain.vectorstores import mongodb_atlas,faiss\n",
    "# what db to store vectors in \n",
    "from langchain.tools import wikipedia,powerbi,GmailSearch \n",
    "# all the tools like to interact with internet , datastores etc\n",
    "from langchain.utils import get_colored_text,convert_to_secret_str,cosine_similarity_top_k\n",
    "# not importent normal utility tasks"
   ]
  },
  {
   "cell_type": "code",
   "execution_count": 12,
   "id": "f9af1493-b315-483e-9fb4-b3c7237250d6",
   "metadata": {
    "tags": []
   },
   "outputs": [],
   "source": [
    "import langchain.evaluation as ev\n",
    "# ensuring that the outcomes produced by your \n",
    "# models are reliable and useful across a broad array \n",
    "# of inputs, and that they work well with your \n",
    "# application's other software components."
   ]
  },
  {
   "cell_type": "code",
   "execution_count": null,
   "id": "c6f55deb-10b2-42d6-965c-9120650c1157",
   "metadata": {},
   "outputs": [],
   "source": []
  }
 ],
 "metadata": {
  "kernelspec": {
   "display_name": "Python 3 (ipykernel)",
   "language": "python",
   "name": "python3"
  },
  "language_info": {
   "codemirror_mode": {
    "name": "ipython",
    "version": 3
   },
   "file_extension": ".py",
   "mimetype": "text/x-python",
   "name": "python",
   "nbconvert_exporter": "python",
   "pygments_lexer": "ipython3",
   "version": "3.10.12"
  }
 },
 "nbformat": 4,
 "nbformat_minor": 5
}
